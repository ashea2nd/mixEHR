{
 "cells": [
  {
   "cell_type": "code",
   "execution_count": 186,
   "metadata": {},
   "outputs": [
    {
     "name": "stderr",
     "output_type": "stream",
     "text": [
      "/Users/andrew/Documents/mixEHR/meng/env/ml/lib/python3.6/site-packages/sklearn/utils/linear_assignment_.py:21: DeprecationWarning: The linear_assignment_ module is deprecated in 0.21 and will be removed from 0.23. Use scipy.optimize.linear_sum_assignment instead.\n",
      "  DeprecationWarning)\n"
     ]
    }
   ],
   "source": [
    "import os\n",
    "import pandas as pd\n",
    "from progressbar import ProgressBar\n",
    "from collections import Counter\n",
    "import matplotlib.pyplot as plt\n",
    "import numpy as np\n",
    "\n",
    "from scvi.dataset import CsvDataset\n",
    "from scvi.models import VAE\n",
    "from scvi.inference import UnsupervisedTrainer\n",
    "import torch"
   ]
  },
  {
   "cell_type": "code",
   "execution_count": 183,
   "metadata": {},
   "outputs": [],
   "source": [
    "data_path = \"/Users/andrew/Documents/mixEHR/data/Mimic/version_1_3/processed/\"\n",
    "meta_path = \"/Users/andrew/Documents/mixEHR/data/Mimic/version_1_3/processed/metadata\"\n",
    "output_path = \"/Users/andrew/Documents/mixEHR/meng/out\"\n",
    "svci_output_path = \"/Users/andrew/Documents/mixEHR/meng/out/scvi\"\n",
    "\n",
    "mimic_train_file = os.path.join(data_path, \"mimic_trainData.txt\")\n",
    "mimic_train_label_file = os.path.join(data_path, \"mimic_trainData_deathLabel.txt\")\n",
    "meta_data_file = os.path.join(meta_path, \"icd9groupings_processed.txt\")\n",
    "\n",
    "patient_binary_train_data_file = os.path.join(output_path, \"patient_binary_train_data.txt\")\n",
    "typeId_pheId_index_mapping_file = os.path.join(output_path, \"typeId_pheId_index_mapping.txt\")"
   ]
  },
  {
   "cell_type": "code",
   "execution_count": 4,
   "metadata": {
    "scrolled": true
   },
   "outputs": [
    {
     "data": {
      "text/html": [
       "<div>\n",
       "<style scoped>\n",
       "    .dataframe tbody tr th:only-of-type {\n",
       "        vertical-align: middle;\n",
       "    }\n",
       "\n",
       "    .dataframe tbody tr th {\n",
       "        vertical-align: top;\n",
       "    }\n",
       "\n",
       "    .dataframe thead th {\n",
       "        text-align: right;\n",
       "    }\n",
       "</style>\n",
       "<table border=\"1\" class=\"dataframe\">\n",
       "  <thead>\n",
       "    <tr style=\"text-align: right;\">\n",
       "      <th></th>\n",
       "      <th>patientId</th>\n",
       "      <th>typeId</th>\n",
       "      <th>pheId</th>\n",
       "      <th>stateId</th>\n",
       "      <th>freq</th>\n",
       "    </tr>\n",
       "  </thead>\n",
       "  <tbody>\n",
       "    <tr>\n",
       "      <th>0</th>\n",
       "      <td>2</td>\n",
       "      <td>5</td>\n",
       "      <td>524</td>\n",
       "      <td>1</td>\n",
       "      <td>1</td>\n",
       "    </tr>\n",
       "    <tr>\n",
       "      <th>1</th>\n",
       "      <td>2</td>\n",
       "      <td>5</td>\n",
       "      <td>5438</td>\n",
       "      <td>1</td>\n",
       "      <td>1</td>\n",
       "    </tr>\n",
       "    <tr>\n",
       "      <th>2</th>\n",
       "      <td>3</td>\n",
       "      <td>2</td>\n",
       "      <td>788</td>\n",
       "      <td>1</td>\n",
       "      <td>1</td>\n",
       "    </tr>\n",
       "    <tr>\n",
       "      <th>3</th>\n",
       "      <td>3</td>\n",
       "      <td>2</td>\n",
       "      <td>2978</td>\n",
       "      <td>1</td>\n",
       "      <td>1</td>\n",
       "    </tr>\n",
       "    <tr>\n",
       "      <th>4</th>\n",
       "      <td>3</td>\n",
       "      <td>2</td>\n",
       "      <td>3926</td>\n",
       "      <td>1</td>\n",
       "      <td>1</td>\n",
       "    </tr>\n",
       "    <tr>\n",
       "      <th>...</th>\n",
       "      <td>...</td>\n",
       "      <td>...</td>\n",
       "      <td>...</td>\n",
       "      <td>...</td>\n",
       "      <td>...</td>\n",
       "    </tr>\n",
       "    <tr>\n",
       "      <th>5193414</th>\n",
       "      <td>99999</td>\n",
       "      <td>5</td>\n",
       "      <td>4813</td>\n",
       "      <td>1</td>\n",
       "      <td>1</td>\n",
       "    </tr>\n",
       "    <tr>\n",
       "      <th>5193415</th>\n",
       "      <td>99999</td>\n",
       "      <td>5</td>\n",
       "      <td>5876</td>\n",
       "      <td>1</td>\n",
       "      <td>1</td>\n",
       "    </tr>\n",
       "    <tr>\n",
       "      <th>5193416</th>\n",
       "      <td>99999</td>\n",
       "      <td>5</td>\n",
       "      <td>6966</td>\n",
       "      <td>1</td>\n",
       "      <td>1</td>\n",
       "    </tr>\n",
       "    <tr>\n",
       "      <th>5193417</th>\n",
       "      <td>99999</td>\n",
       "      <td>6</td>\n",
       "      <td>874</td>\n",
       "      <td>1</td>\n",
       "      <td>2</td>\n",
       "    </tr>\n",
       "    <tr>\n",
       "      <th>5193418</th>\n",
       "      <td>99999</td>\n",
       "      <td>6</td>\n",
       "      <td>2758</td>\n",
       "      <td>1</td>\n",
       "      <td>1</td>\n",
       "    </tr>\n",
       "  </tbody>\n",
       "</table>\n",
       "<p>5193419 rows × 5 columns</p>\n",
       "</div>"
      ],
      "text/plain": [
       "         patientId  typeId  pheId  stateId  freq\n",
       "0                2       5    524        1     1\n",
       "1                2       5   5438        1     1\n",
       "2                3       2    788        1     1\n",
       "3                3       2   2978        1     1\n",
       "4                3       2   3926        1     1\n",
       "...            ...     ...    ...      ...   ...\n",
       "5193414      99999       5   4813        1     1\n",
       "5193415      99999       5   5876        1     1\n",
       "5193416      99999       5   6966        1     1\n",
       "5193417      99999       6    874        1     2\n",
       "5193418      99999       6   2758        1     1\n",
       "\n",
       "[5193419 rows x 5 columns]"
      ]
     },
     "execution_count": 4,
     "metadata": {},
     "output_type": "execute_result"
    }
   ],
   "source": [
    "mimic_trainData = pd.read_csv(mimic_train_file, sep=\" \", header=None)\n",
    "mimic_training_cols = [\"patientId\", 'typeId', 'pheId', 'stateId', 'freq']\n",
    "\n",
    "mimic_trainData.columns = mimic_training_cols\n",
    "mimic_trainData"
   ]
  },
  {
   "cell_type": "code",
   "execution_count": 5,
   "metadata": {},
   "outputs": [],
   "source": [
    "def examine_patient(train_df, patientId):\n",
    "    print(train_df[train_df['patientId'] == patientId])"
   ]
  },
  {
   "cell_type": "code",
   "execution_count": 17,
   "metadata": {},
   "outputs": [],
   "source": [
    "\"\"\"\n",
    "stateId indicates whether the typeId is \n",
    "typeId indicates test related to some disease exists. \n",
    "pheId gives specific insight on this disease.\n",
    "\"\"\"\n",
    "class Cohort:\n",
    "    def __init__(self, df):\n",
    "        self.patients = {}\n",
    "        self.df = df\n",
    "\n",
    "    def add_patient(self, patient):\n",
    "        assert(type(patient)) == Patient\n",
    "        assert patient.id not in self.patients\n",
    "        \n",
    "        self.patients[patient.id] = patient\n",
    "    \n",
    "    def get_total_patients(self):\n",
    "        return len(self.patients)\n",
    "        \n",
    "class Patient:\n",
    "    def __init__(self, i, df, feats = set()):\n",
    "        self.id = i\n",
    "        self.df = df\n",
    "        self.features = feats\n",
    "    \n",
    "    def __str__(self):\n",
    "        return str(self.__class__) + \": \" + str(self.__dict__)\n",
    "        "
   ]
  },
  {
   "cell_type": "code",
   "execution_count": 18,
   "metadata": {},
   "outputs": [
    {
     "name": "stdout",
     "output_type": "stream",
     "text": [
      "Columns: Index(['patientId', 'typeId', 'pheId', 'stateId', 'freq'], dtype='object')\n"
     ]
    }
   ],
   "source": [
    "mimic_train_binary = mimic_trainData[mimic_trainData['stateId'] == 1]\n",
    "mimic_train_lab = mimic_trainData[mimic_trainData['stateId'] == 0]\n",
    "\n",
    "print(\"Columns:\", mimic_train_binary.columns)"
   ]
  },
  {
   "cell_type": "code",
   "execution_count": 19,
   "metadata": {},
   "outputs": [
    {
     "name": "stdout",
     "output_type": "stream",
     "text": [
      "   patientId  typeId  pheId  stateId  freq\n",
      "2          3       2    788        1     1\n",
      "3          3       2   2978        1     1\n",
      "4          3       2   3926        1     1\n",
      "5          3       4     97        1     1\n",
      "8          3       4    123        1     7\n",
      "9          3       4    125        1     1\n"
     ]
    }
   ],
   "source": [
    "examine_patient(mimic_train_binary, patientId = 3)"
   ]
  },
  {
   "cell_type": "code",
   "execution_count": 22,
   "metadata": {
    "scrolled": true
   },
   "outputs": [],
   "source": [
    "\"\"\"\n",
    "Input: \n",
    "    mimic_df: a mimic training df\n",
    "Returns: \n",
    "    cohort: corresponding Cohort object\n",
    "\"\"\"\n",
    "id_visualizer = ProgressBar()\n",
    "def build_cohort(mimic_df):\n",
    "    cohort = Cohort(mimic_df)\n",
    "    uniqueIds = mimic_df.patientId.unique()\n",
    "    print(\"Total unique IDs:\", len(uniqueIds))\n",
    "    for pid in id_visualizer(uniqueIds):\n",
    "                \n",
    "        patient_df = mimic_df[mimic_df['patientId'] == pid]        \n",
    "        features_df = patient_df[[\"typeId\", \"pheId\"]]\n",
    "        typeId_pheId_pairs = [tuple(typeId_pheId) for typeId_pheId in features_df.values.tolist()]\n",
    "        typeId_pheId_pairs = set(typeId_pheId_pairs)\n",
    "        \n",
    "        patient = Patient(pid, patient_df, typeId_pheId_pairs)\n",
    "        cohort.add_patient(patient)\n",
    "        \n",
    "    return cohort"
   ]
  },
  {
   "cell_type": "code",
   "execution_count": 23,
   "metadata": {},
   "outputs": [
    {
     "name": "stderr",
     "output_type": "stream",
     "text": [
      "  0% |                                                                        |\r"
     ]
    },
    {
     "name": "stdout",
     "output_type": "stream",
     "text": [
      "Total unique IDs: 37411\n"
     ]
    },
    {
     "name": "stderr",
     "output_type": "stream",
     "text": [
      "100% |########################################################################|\n"
     ]
    }
   ],
   "source": [
    "cohort_binary_train = build_cohort(mimic_train_binary) "
   ]
  },
  {
   "cell_type": "code",
   "execution_count": 37,
   "metadata": {},
   "outputs": [
    {
     "name": "stderr",
     "output_type": "stream",
     "text": [
      "100% |########################################################################|\r"
     ]
    },
    {
     "name": "stdout",
     "output_type": "stream",
     "text": [
      "Total unique (typeId, pheId) pairs 53076\n",
      "Total (typeId, pheId) pairs 5060042\n"
     ]
    },
    {
     "name": "stderr",
     "output_type": "stream",
     "text": [
      "\n"
     ]
    }
   ],
   "source": [
    "\"\"\"\n",
    "Understand total # of unique (typeId, pheId) pairs\n",
    "\"\"\"\n",
    "typeId_pheId_counter = Counter()\n",
    "patient_visualizer = ProgressBar()\n",
    "\n",
    "for pid, patient in patient_visualizer(cohort_binary_train.patients.items()):\n",
    "    typeId_pheId_counter.update(patient.features)\n",
    "    \n",
    "print(\"Total unique (typeId, pheId) pairs\", len(typeId_pheId_counter.keys()))\n",
    "print(\"Total (typeId, pheId) pairs\", sum(typeId_pheId_counter.values()))"
   ]
  },
  {
   "cell_type": "code",
   "execution_count": 146,
   "metadata": {},
   "outputs": [],
   "source": [
    "w = 15\n",
    "h = 6"
   ]
  },
  {
   "cell_type": "code",
   "execution_count": 156,
   "metadata": {},
   "outputs": [
    {
     "name": "stdout",
     "output_type": "stream",
     "text": [
      "Excluding (typeId, pheId) pairs with less than 374 occurences (1.0% of patient population)\n"
     ]
    }
   ],
   "source": [
    "p = 0.01\n",
    "pair_occurence_threshold = int(len(cohort_binary_train.patients)*percent)\n",
    "print(\"Excluding (typeId, pheId) pairs with less than {0} occurences ({1}% of patient population)\".format(pair_occurence_threshold, p*100))"
   ]
  },
  {
   "cell_type": "code",
   "execution_count": 155,
   "metadata": {},
   "outputs": [
    {
     "name": "stdout",
     "output_type": "stream",
     "text": [
      "[((4, 57), 2305), ((4, 100), 2260), ((4, 74), 1953), ((4, 96), 1679), ((1, 13874), 1669), ((1, 10014), 1669), ((1, 14852), 1669), ((1, 252), 1669), ((1, 8310), 1667), ((1, 26072), 1667)]\n"
     ]
    },
    {
     "data": {
      "image/png": "[encoded data removed]",
      "text/plain": [
       "<Figure size 1080x432 with 1 Axes>"
      ]
     },
     "metadata": {
      "needs_background": "light"
     },
     "output_type": "display_data"
    }
   ],
   "source": [
    "\"\"\"Examine feature distribution\"\"\"\n",
    "typeId_pheId_pairs = list(typeId_pheId_counter.items())\n",
    "typeId_pheId_pairs.sort(key=lambda pair: pair[1], reverse=True)\n",
    "print (typeId_pheId_pairs[:10])\n",
    "typeId_pheId_pairs = [pair for pair in typeId_pheId_pairs if int(pair[1]) > pair_occurence_threshold]\n",
    "\n",
    "\n",
    "labels = [str(pair[0]) for pair in typeId_pheId_pairs]\n",
    "counts = [int(pair[1]) for pair in typeId_pheId_pairs]\n",
    "ticks = range(len(labels))\n",
    "\n",
    "plt.figure(figsize=(w, h))\n",
    "plt.title(\"Freq of Top {0} Occurring Features\".format(len(labels)))\n",
    "plt.bar(ticks, counts)\n",
    "plt.xticks(ticks, labels)\n",
    "plt.xlabel(\"Feature pairs\")\n",
    "plt.ylabel(\"Frequency\")\n",
    "plt.show()"
   ]
  },
  {
   "cell_type": "code",
   "execution_count": 54,
   "metadata": {
    "scrolled": false
   },
   "outputs": [
    {
     "data": {
      "image/png": "[encoded data removed]",
      "text/plain": [
       "<Figure size 1080x432 with 1 Axes>"
      ]
     },
     "metadata": {
      "needs_background": "light"
     },
     "output_type": "display_data"
    }
   ],
   "source": [
    "\"\"\"Examine patient feature distribution\"\"\"\n",
    "plt.figure(figsize=(w, h))\n",
    "plt.title(\"Distribution of patient features\")\n",
    "plt.ylabel(\"Patients\")\n",
    "plt.xlabel(\"Number of features\")\n",
    "plt.hist(typeId_pheId_counter.values(), bins=500)\n",
    "plt.show()"
   ]
  },
  {
   "cell_type": "code",
   "execution_count": 172,
   "metadata": {},
   "outputs": [
    {
     "name": "stdout",
     "output_type": "stream",
     "text": [
      "Total features exceeding threshold: 3530\n"
     ]
    }
   ],
   "source": [
    "\"\"\"\n",
    "Create consistent indexing file for (typeId, pheId) pairs. \n",
    "These indicies define the columns of our matrices.\n",
    "\n",
    "EXCLUDING ALL PAIRS THAT OCCUR IN LESS THAN 1% OF PATIENTS\n",
    "\"\"\"\n",
    "all_typeId_pheId_pairs = typeId_pheId_counter.keys()\n",
    "all_typeId_pheId_pairs = list(all_typeId_pheId_pairs)\n",
    "all_typeId_pheId_pairs = [pair for pair in all_typeId_pheId_pairs if typeId_pheId_counter[pair] > pair_occurence_threshold]\n",
    "all_typeId_pheId_pairs.sort(key=lambda pair: [pair[0], pair[1]])\n",
    "\n",
    "print(\"Total features exceeding threshold:\", len(all_typeId_pheId_pairs))\n",
    "\n",
    "open(typeId_pheId_index_mapping_file, 'w').close()\n",
    "with open(typeId_pheId_index_mapping_file, 'w') as file:\n",
    "    file.write(\"(typeId, pheId)\\tindex\\n\")\n",
    "    for i, pair in enumerate(all_typeId_pheId_pairs):\n",
    "        file.write(\"\\t\".join([str(pair), str(i)]))\n",
    "        file.write(\"\\n\")"
   ]
  },
  {
   "cell_type": "code",
   "execution_count": 175,
   "metadata": {},
   "outputs": [
    {
     "name": "stdout",
     "output_type": "stream",
     "text": [
      "0\n"
     ]
    },
    {
     "data": {
      "text/html": [
       "<div>\n",
       "<style scoped>\n",
       "    .dataframe tbody tr th:only-of-type {\n",
       "        vertical-align: middle;\n",
       "    }\n",
       "\n",
       "    .dataframe tbody tr th {\n",
       "        vertical-align: top;\n",
       "    }\n",
       "\n",
       "    .dataframe thead th {\n",
       "        text-align: right;\n",
       "    }\n",
       "</style>\n",
       "<table border=\"1\" class=\"dataframe\">\n",
       "  <thead>\n",
       "    <tr style=\"text-align: right;\">\n",
       "      <th></th>\n",
       "      <th>index</th>\n",
       "    </tr>\n",
       "    <tr>\n",
       "      <th>(typeId, pheId)</th>\n",
       "      <th></th>\n",
       "    </tr>\n",
       "  </thead>\n",
       "  <tbody>\n",
       "    <tr>\n",
       "      <th>(1, 1)</th>\n",
       "      <td>0</td>\n",
       "    </tr>\n",
       "    <tr>\n",
       "      <th>(1, 2)</th>\n",
       "      <td>1</td>\n",
       "    </tr>\n",
       "    <tr>\n",
       "      <th>(1, 14)</th>\n",
       "      <td>2</td>\n",
       "    </tr>\n",
       "    <tr>\n",
       "      <th>(1, 16)</th>\n",
       "      <td>3</td>\n",
       "    </tr>\n",
       "    <tr>\n",
       "      <th>(1, 21)</th>\n",
       "      <td>4</td>\n",
       "    </tr>\n",
       "    <tr>\n",
       "      <th>...</th>\n",
       "      <td>...</td>\n",
       "    </tr>\n",
       "    <tr>\n",
       "      <th>(5, 7971)</th>\n",
       "      <td>3525</td>\n",
       "    </tr>\n",
       "    <tr>\n",
       "      <th>(5, 8106)</th>\n",
       "      <td>3526</td>\n",
       "    </tr>\n",
       "    <tr>\n",
       "      <th>(5, 8127)</th>\n",
       "      <td>3527</td>\n",
       "    </tr>\n",
       "    <tr>\n",
       "      <th>(5, 8376)</th>\n",
       "      <td>3528</td>\n",
       "    </tr>\n",
       "    <tr>\n",
       "      <th>(5, 8379)</th>\n",
       "      <td>3529</td>\n",
       "    </tr>\n",
       "  </tbody>\n",
       "</table>\n",
       "<p>3530 rows × 1 columns</p>\n",
       "</div>"
      ],
      "text/plain": [
       "                 index\n",
       "(typeId, pheId)       \n",
       "(1, 1)               0\n",
       "(1, 2)               1\n",
       "(1, 14)              2\n",
       "(1, 16)              3\n",
       "(1, 21)              4\n",
       "...                ...\n",
       "(5, 7971)         3525\n",
       "(5, 8106)         3526\n",
       "(5, 8127)         3527\n",
       "(5, 8376)         3528\n",
       "(5, 8379)         3529\n",
       "\n",
       "[3530 rows x 1 columns]"
      ]
     },
     "execution_count": 175,
     "metadata": {},
     "output_type": "execute_result"
    }
   ],
   "source": [
    "typeId_pheId_index_mapping_df = pd.read_csv(typeId_pheId_index_mapping_file, sep=\"\\t\")\n",
    "typeId_pheId_index_mapping_df.set_index(\"(typeId, pheId)\", inplace=True)\n",
    "print(typeId_pheId_index_mapping_df.loc[\"(1, 1)\"]['index'])\n",
    "typeId_pheId_index_mapping_df"
   ]
  },
  {
   "cell_type": "code",
   "execution_count": 180,
   "metadata": {},
   "outputs": [
    {
     "name": "stdout",
     "output_type": "stream",
     "text": [
      "Features remaining: 3530\n"
     ]
    }
   ],
   "source": [
    "n_genes = typeId_pheId_index_mapping_df.shape[0]\n",
    "print(\"Features remaining:\", n_genes)"
   ]
  },
  {
   "cell_type": "code",
   "execution_count": 179,
   "metadata": {},
   "outputs": [
    {
     "name": "stderr",
     "output_type": "stream",
     "text": [
      "  0% |                                                                        |\r"
     ]
    },
    {
     "name": "stdout",
     "output_type": "stream",
     "text": [
      "Writing data file...\n"
     ]
    },
    {
     "name": "stderr",
     "output_type": "stream",
     "text": [
      "100% |########################################################################|\n"
     ]
    }
   ],
   "source": [
    "patient_visualizer = ProgressBar()\n",
    "\n",
    "total_unique_pairs = typeId_pheId_index_mapping_df.shape[0]\n",
    "\n",
    "open(patient_binary_train_data_file, 'w').close()\n",
    "with open(patient_binary_train_data_file, 'w') as file:\n",
    "    print(\"Writing data file...\")\n",
    "    #Write table header\n",
    "    file.write(\"patientId\\t\")\n",
    "    file.write('\\t'.join([str(pair) for pair in typeId_pheId_index_mapping_df.index]))\n",
    "    file.write('\\n')\n",
    "    \n",
    "    #Write patient features\n",
    "    patients_sorted_by_id = list(cohort_binary_train.patients.items())\n",
    "    patients_sorted_by_id.sort(key=lambda pair: pair[0])\n",
    "    for pid, patient in patient_visualizer(patients_sorted_by_id):\n",
    "        \n",
    "        #Init feat vec to all 0's and flip relevant indicies\n",
    "        patient_feat_vec = np.zeros(total_unique_pairs)    \n",
    "        for typeId_pheId in patient.features:\n",
    "            typeId_pheId_as_string = str(typeId_pheId)\n",
    "            if typeId_pheId_as_string in typeId_pheId_index_mapping_df.index:\n",
    "                index = typeId_pheId_index_mapping_df.loc[typeId_pheId_as_string]['index']\n",
    "                index = int(index)\n",
    "                patient_feat_vec[index] = 1\n",
    "                \n",
    "        patient_feat_vec = patient_feat_vec.tolist()\n",
    "        \n",
    "        file.write(str(pid))\n",
    "        file.write(\"\\t\")\n",
    "        file.write(\"\\t\".join(str(i) for i in patient_feat_vec))\n",
    "        file.write(\"\\n\")    "
   ]
  },
  {
   "cell_type": "code",
   "execution_count": 184,
   "metadata": {},
   "outputs": [
    {
     "name": "stderr",
     "output_type": "stream",
     "text": [
      "[2019-10-30 23:32:38,908] INFO - scvi.dataset.csv | Preprocessing dataset\n",
      "[2019-10-30 23:33:03,356] INFO - scvi.dataset.csv | Finished preprocessing dataset\n",
      "[2019-10-30 23:33:04,167] INFO - scvi.dataset.dataset | Remapping batch_indices to [0,N]\n",
      "[2019-10-30 23:33:04,168] INFO - scvi.dataset.dataset | Remapping labels to [0,N]\n",
      "[2019-10-30 23:33:04,556] INFO - scvi.dataset.dataset | Computing the library size for the new data\n",
      "[2019-10-30 23:33:04,943] INFO - scvi.dataset.dataset | Downsampled from 3530 to 3530 cells\n",
      "[2019-10-30 23:33:09,584] INFO - scvi.dataset.dataset | Downsampling from 37411 to 3530 genes\n",
      "[2019-10-30 23:33:09,853] INFO - scvi.dataset.dataset | Computing the library size for the new data\n",
      "[2019-10-30 23:33:10,010] WARNING - scvi.dataset.dataset | This dataset has some empty cells, this might fail scVI inference.Data should be filtered with `my_dataset.filter_cells_by_count()\n",
      "[2019-10-30 23:33:10,022] INFO - scvi.dataset.dataset | Filtering non-expressing cells.\n",
      "[2019-10-30 23:33:10,162] INFO - scvi.dataset.dataset | Computing the library size for the new data\n",
      "[2019-10-30 23:33:10,181] INFO - scvi.dataset.dataset | Downsampled from 3530 to 3507 cells\n"
     ]
    }
   ],
   "source": [
    "patient_binary_dataset = CsvDataset(filename=patient_binary_train_data_file, \n",
    "                                    save_path=svci_output_path,\n",
    "                                    new_n_genes=n_genes,\n",
    "                                    sep=\"\\t\")"
   ]
  },
  {
   "cell_type": "code",
   "execution_count": 195,
   "metadata": {},
   "outputs": [],
   "source": [
    "n_epochs = 10\n",
    "lr = 1e-3\n",
    "use_batches = False\n",
    "use_cuda = False"
   ]
  },
  {
   "cell_type": "code",
   "execution_count": 196,
   "metadata": {},
   "outputs": [
    {
     "name": "stdout",
     "output_type": "stream",
     "text": [
      "training: 100%|██████████| 10/10 [00:47<00:00,  4.71s/it]\n"
     ]
    }
   ],
   "source": [
    "vae = VAE(patient_binary_dataset.nb_genes, n_batch=patient_binary_dataset.n_batches * use_batches)\n",
    "trainer = UnsupervisedTrainer(\n",
    "    vae,\n",
    "    patient_binary_dataset,\n",
    "    train_size=0.75,\n",
    "    use_cuda=use_cuda,\n",
    "    frequency=1,\n",
    ")\n",
    "\n",
    "if os.path.isfile('%s/vae.pkl' % svci_output_path):\n",
    "    trainer.model.load_state_dict(torch.load('%s/vae.pkl' % svci_output_path))\n",
    "    trainer.model.eval()\n",
    "else:\n",
    "    trainer.train(n_epochs=n_epochs, lr=lr)\n",
    "    torch.save(trainer.model.state_dict(), '%s/vae.pkl' % svci_output_path)"
   ]
  },
  {
   "cell_type": "code",
   "execution_count": 199,
   "metadata": {},
   "outputs": [
    {
     "data": {
      "text/plain": [
       "<function matplotlib.pyplot.show(*args, **kw)>"
      ]
     },
     "execution_count": 199,
     "metadata": {},
     "output_type": "execute_result"
    },
    {
     "data": {
      "image/png": "[encoded data removed]",
      "text/plain": [
       "<Figure size 1080x432 with 1 Axes>"
      ]
     },
     "metadata": {
      "needs_background": "light"
     },
     "output_type": "display_data"
    }
   ],
   "source": [
    "elbo_train_set = trainer.history[\"elbo_train_set\"]\n",
    "elbo_test_set = trainer.history[\"elbo_test_set\"]\n",
    "x = np.linspace(0, 500, (len(elbo_train_set)))\n",
    "plt.figure(figsize=(w, h))\n",
    "plt.plot(x, elbo_train_set)\n",
    "plt.plot(x, elbo_test_set)\n",
    "plt.ylim(1150, 1600)\n",
    "plt.show"
   ]
  },
  {
   "cell_type": "code",
   "execution_count": 35,
   "metadata": {
    "scrolled": true
   },
   "outputs": [
    {
     "data": {
      "text/html": [
       "<div>\n",
       "<style scoped>\n",
       "    .dataframe tbody tr th:only-of-type {\n",
       "        vertical-align: middle;\n",
       "    }\n",
       "\n",
       "    .dataframe tbody tr th {\n",
       "        vertical-align: top;\n",
       "    }\n",
       "\n",
       "    .dataframe thead th {\n",
       "        text-align: right;\n",
       "    }\n",
       "</style>\n",
       "<table border=\"1\" class=\"dataframe\">\n",
       "  <thead>\n",
       "    <tr style=\"text-align: right;\">\n",
       "      <th></th>\n",
       "      <th>patId_internal</th>\n",
       "      <th>ehrId</th>\n",
       "      <th>patId</th>\n",
       "      <th>SUBJECT_ID</th>\n",
       "      <th>HADM_ID</th>\n",
       "      <th>dead</th>\n",
       "    </tr>\n",
       "  </thead>\n",
       "  <tbody>\n",
       "    <tr>\n",
       "      <th>0</th>\n",
       "      <td>1</td>\n",
       "      <td>10000_187813</td>\n",
       "      <td>1</td>\n",
       "      <td>10000</td>\n",
       "      <td>187813</td>\n",
       "      <td>False</td>\n",
       "    </tr>\n",
       "    <tr>\n",
       "      <th>1</th>\n",
       "      <td>2</td>\n",
       "      <td>10001_118420</td>\n",
       "      <td>2</td>\n",
       "      <td>10001</td>\n",
       "      <td>118420</td>\n",
       "      <td>False</td>\n",
       "    </tr>\n",
       "    <tr>\n",
       "      <th>2</th>\n",
       "      <td>3</td>\n",
       "      <td>1000_143040</td>\n",
       "      <td>3</td>\n",
       "      <td>1000</td>\n",
       "      <td>143040</td>\n",
       "      <td>True</td>\n",
       "    </tr>\n",
       "    <tr>\n",
       "      <th>3</th>\n",
       "      <td>4</td>\n",
       "      <td>10002_132138</td>\n",
       "      <td>4</td>\n",
       "      <td>10002</td>\n",
       "      <td>132138</td>\n",
       "      <td>False</td>\n",
       "    </tr>\n",
       "    <tr>\n",
       "      <th>4</th>\n",
       "      <td>5</td>\n",
       "      <td>10003_144039</td>\n",
       "      <td>5</td>\n",
       "      <td>10003</td>\n",
       "      <td>144039</td>\n",
       "      <td>False</td>\n",
       "    </tr>\n",
       "    <tr>\n",
       "      <th>...</th>\n",
       "      <td>...</td>\n",
       "      <td>...</td>\n",
       "      <td>...</td>\n",
       "      <td>...</td>\n",
       "      <td>...</td>\n",
       "      <td>...</td>\n",
       "    </tr>\n",
       "    <tr>\n",
       "      <th>38976</th>\n",
       "      <td>38977</td>\n",
       "      <td>99991_151118</td>\n",
       "      <td>38979</td>\n",
       "      <td>99991</td>\n",
       "      <td>151118</td>\n",
       "      <td>False</td>\n",
       "    </tr>\n",
       "    <tr>\n",
       "      <th>38977</th>\n",
       "      <td>38978</td>\n",
       "      <td>9999_117856</td>\n",
       "      <td>38980</td>\n",
       "      <td>9999</td>\n",
       "      <td>117856</td>\n",
       "      <td>True</td>\n",
       "    </tr>\n",
       "    <tr>\n",
       "      <th>38978</th>\n",
       "      <td>38979</td>\n",
       "      <td>99992_197084</td>\n",
       "      <td>38981</td>\n",
       "      <td>99992</td>\n",
       "      <td>197084</td>\n",
       "      <td>False</td>\n",
       "    </tr>\n",
       "    <tr>\n",
       "      <th>38979</th>\n",
       "      <td>38980</td>\n",
       "      <td>99995_137810</td>\n",
       "      <td>38982</td>\n",
       "      <td>99995</td>\n",
       "      <td>137810</td>\n",
       "      <td>False</td>\n",
       "    </tr>\n",
       "    <tr>\n",
       "      <th>38980</th>\n",
       "      <td>38981</td>\n",
       "      <td>99999_113369</td>\n",
       "      <td>38983</td>\n",
       "      <td>99999</td>\n",
       "      <td>113369</td>\n",
       "      <td>False</td>\n",
       "    </tr>\n",
       "  </tbody>\n",
       "</table>\n",
       "<p>38981 rows × 6 columns</p>\n",
       "</div>"
      ],
      "text/plain": [
       "       patId_internal         ehrId  patId  SUBJECT_ID  HADM_ID   dead\n",
       "0                   1  10000_187813      1       10000   187813  False\n",
       "1                   2  10001_118420      2       10001   118420  False\n",
       "2                   3   1000_143040      3        1000   143040   True\n",
       "3                   4  10002_132138      4       10002   132138  False\n",
       "4                   5  10003_144039      5       10003   144039  False\n",
       "...               ...           ...    ...         ...      ...    ...\n",
       "38976           38977  99991_151118  38979       99991   151118  False\n",
       "38977           38978   9999_117856  38980        9999   117856   True\n",
       "38978           38979  99992_197084  38981       99992   197084  False\n",
       "38979           38980  99995_137810  38982       99995   137810  False\n",
       "38980           38981  99999_113369  38983       99999   113369  False\n",
       "\n",
       "[38981 rows x 6 columns]"
      ]
     },
     "execution_count": 35,
     "metadata": {},
     "output_type": "execute_result"
    }
   ],
   "source": [
    "mimic_trainData_labels = pd.read_csv(mimic_train_label_file, sep=\" \")\n",
    "mimic_trainData_labels"
   ]
  },
  {
   "cell_type": "code",
   "execution_count": 33,
   "metadata": {},
   "outputs": [
    {
     "name": "stdout",
     "output_type": "stream",
     "text": [
      "<class 'str'>\n"
     ]
    }
   ],
   "source": [
    "meta_data = pd.read_csv(meta_data_file, sep='\\t', header=None)\n",
    "meta_data_cols = ['typeId','pheId','stateNum']\n",
    "\n",
    "meta_data.columns = meta_data_cols\n",
    "print(type(meta_data.iloc[0]['stateNum']))"
   ]
  },
  {
   "cell_type": "code",
   "execution_count": null,
   "metadata": {},
   "outputs": [],
   "source": [
    "\"\"\"\n",
    "NOTES:\n",
    "Use zero-inflated binomial/poisson distributed variational autoencoder\n",
    "\n",
    "\"\"\""
   ]
  }
 ],
 "metadata": {
  "kernelspec": {
   "display_name": "ml",
   "language": "python",
   "name": "ml"
  },
  "language_info": {
   "codemirror_mode": {
    "name": "ipython",
    "version": 3
   },
   "file_extension": ".py",
   "mimetype": "text/x-python",
   "name": "python",
   "nbconvert_exporter": "python",
   "pygments_lexer": "ipython3",
   "version": "3.6.5"
  }
 },
 "nbformat": 4,
 "nbformat_minor": 2
}
